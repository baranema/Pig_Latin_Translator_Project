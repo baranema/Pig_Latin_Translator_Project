{
  "cells": [
    {
      "cell_type": "markdown",
      "metadata": {
        "colab_type": "text",
        "id": "view-in-github"
      },
      "source": [
        "<a href=\"https://colab.research.google.com/github/TuringCollegeSubmissions/ebaran-DWPP.2/blob/main/112b.ipynb\" target=\"_parent\"><img src=\"https://colab.research.google.com/assets/colab-badge.svg\" alt=\"Open In Colab\"/></a>"
      ]
    },
    {
      "cell_type": "markdown",
      "metadata": {
        "id": "MuQPyNWQ0fNP"
      },
      "source": [
        "## Pig Latin Translator Project"
      ]
    },
    {
      "cell_type": "code",
      "execution_count": 41,
      "metadata": {
        "colab": {
          "base_uri": "https://localhost:8080/"
        },
        "id": "rg-ceE1BT6Xp",
        "outputId": "6771457a-50ca-48ea-fd29-c4b08ea94e01"
      },
      "outputs": [
        {
          "name": "stdout",
          "output_type": "stream",
          "text": [
            "Type in a word and the program will translate it to Pig Latin.\n",
            "***Rules***\n",
            "-If a word begins with a vowel, it will add 'way' to the end of the word.\n",
            "-If the word begins with any other letter, then we take the first letter, put it on the end of the word, and then add 'ay'.\n",
            "\n",
            "Type word to translate: hi\n",
            "Pig Latin word: ihay\n",
            "\n",
            "Type word to translate: bye\n",
            "Pig Latin word: yebay\n",
            "\n",
            "Type word to translate: yellow\n",
            "Pig Latin word: ellowyay\n",
            "\n",
            "Type word to translate: \n",
            "The program exited.\n"
          ]
        }
      ],
      "source": [
        "def pig_latin(word):\n",
        "  ''' Function that translates word into Pig Latin '''\n",
        "  \n",
        "  if word == \"\":\n",
        "      ''' If the word is equal to empty string, then the program exists '''\n",
        "      print(\"The program exited.\")\n",
        "      return -1\n",
        "\n",
        "  vowels = {'a','e','i','o','u'}\n",
        "    \n",
        "  if word.isalpha():\n",
        "    ''' If the word contains only alphabetic characters, it converts it to Pig Latin '''\n",
        "    firstLetter = word[0]\n",
        "\n",
        "    if firstLetter in vowels:\n",
        "      ''' If the word starts with a vowel, \"way\" is added to the end '''\n",
        "      word += \"way\"\n",
        "    else: \n",
        "      ''' If the word starts not with a vowel, the first character is removed '''\n",
        "      word = word[1:len(word)]\n",
        "\n",
        "      ''' If the first letter is uppercase, then it becomes lowercase and new first letter becomes uppercase '''\n",
        "      if firstLetter == firstLetter.upper():\n",
        "        firstLetter = firstLetter.lower()\n",
        "        word = word[0].upper() + word[1:len(word)] \n",
        "          \n",
        "      word = word + firstLetter + \"ay\"\n",
        "\n",
        "    return word\n",
        "  \n",
        "  print(\"This word contains unalphabetic characters!\\n\")\n",
        "  return -1\n",
        "     \n",
        "\n",
        "print(\"Type in a word and the program will translate it to Pig Latin.\")\n",
        "print(\"*** Rules ***\\n-If a word begins with a vowel, it will add 'way' to the end of the word.\\n-If the word begins with any other letter, then we take the first letter, put it on the end of the word, and then add 'ay'.\\n\")\n",
        "word = None\n",
        "\n",
        "while (word != \"\"):\n",
        "    ''' The continuously program asks for input while it is not an empty string '''\n",
        "    word = str(input(\"Type word to translate: \"))\n",
        "    translatedWord = pig_latin(word)\n",
        "    \n",
        "    ''' If translation was successful, then the translated word is printed out'''\n",
        "    if translatedWord != -1:\n",
        "      print(f'Pig Latin word: {translatedWord}\\n')\n",
        "  "
      ]
    }
  ],
  "metadata": {
    "colab": {
      "collapsed_sections": [],
      "include_colab_link": true,
      "name": "112b.ipynb",
      "provenance": []
    },
    "kernelspec": {
      "display_name": "Python 3",
      "language": "python",
      "name": "python3"
    },
    "language_info": {
      "codemirror_mode": {
        "name": "ipython",
        "version": 3
      },
      "file_extension": ".py",
      "mimetype": "text/x-python",
      "name": "python",
      "nbconvert_exporter": "python",
      "pygments_lexer": "ipython3",
      "version": "3.7.7"
    }
  },
  "nbformat": 4,
  "nbformat_minor": 0
}
